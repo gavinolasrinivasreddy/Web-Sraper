{
 "cells": [
  {
   "cell_type": "code",
   "execution_count": 1,
   "id": "029ec76f",
   "metadata": {},
   "outputs": [],
   "source": [
    "import requests\n",
    "from bs4 import BeautifulSoup\n",
    "import pandas as pd"
   ]
  },
  {
   "cell_type": "code",
   "execution_count": 3,
   "id": "0ae031a9",
   "metadata": {},
   "outputs": [],
   "source": [
    "url = \"https://www.flipkart.com/search?q=mobiles\""
   ]
  },
  {
   "cell_type": "code",
   "execution_count": 4,
   "id": "88db4481",
   "metadata": {},
   "outputs": [],
   "source": [
    "url_req = requests.get(url)"
   ]
  },
  {
   "cell_type": "code",
   "execution_count": 5,
   "id": "463ea61b",
   "metadata": {},
   "outputs": [],
   "source": [
    "collectdata = BeautifulSoup(url_req.content, \"html.parser\")"
   ]
  },
  {
   "cell_type": "code",
   "execution_count": 17,
   "id": "7ba4d144",
   "metadata": {},
   "outputs": [],
   "source": [
    "mobname = collectdata.findAll(\"div\", class_ =\"_4rR01T\")\n",
    "mrating = collectdata.findAll(\"div\", class_ = \"_3LWZlK\")\n",
    "mprice = collectdata.findAll(\"div\", class_ = \"_30jeq3 _1_WHN1\")"
   ]
  },
  {
   "cell_type": "code",
   "execution_count": 18,
   "id": "3758a10b",
   "metadata": {},
   "outputs": [],
   "source": [
    "mobile = []\n",
    "rating = []\n",
    "price = []\n",
    "for i,j,k in zip (mobname, mrating, mprice):\n",
    "    mobile.append(i.text)\n",
    "    rating.append(j.text)\n",
    "    price.append(k.text)\n",
    "    \n",
    "    "
   ]
  },
  {
   "cell_type": "code",
   "execution_count": 23,
   "id": "04ec9695",
   "metadata": {},
   "outputs": [],
   "source": [
    "data = {\"mname\":mobile, \"mrating\":rating, \"mprice\":price}"
   ]
  },
  {
   "cell_type": "code",
   "execution_count": 25,
   "id": "06e8a481",
   "metadata": {},
   "outputs": [],
   "source": [
    "df_mobile = pd.DataFrame(data)"
   ]
  },
  {
   "cell_type": "code",
   "execution_count": 29,
   "id": "75c369ba",
   "metadata": {},
   "outputs": [],
   "source": [
    "df_mobile.to_csv(\"mobile.csv\")"
   ]
  },
  {
   "cell_type": "code",
   "execution_count": null,
   "id": "948310fe",
   "metadata": {},
   "outputs": [],
   "source": []
  }
 ],
 "metadata": {
  "kernelspec": {
   "display_name": "Python 3 (ipykernel)",
   "language": "python",
   "name": "python3"
  },
  "language_info": {
   "codemirror_mode": {
    "name": "ipython",
    "version": 3
   },
   "file_extension": ".py",
   "mimetype": "text/x-python",
   "name": "python",
   "nbconvert_exporter": "python",
   "pygments_lexer": "ipython3",
   "version": "3.9.12"
  }
 },
 "nbformat": 4,
 "nbformat_minor": 5
}
